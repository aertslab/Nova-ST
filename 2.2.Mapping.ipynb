{
 "cells": [
  {
   "cell_type": "markdown",
   "metadata": {},
   "source": [
    "# STAR Mapping\n",
    "\n",
    "We load the genome into memory first to prevent needing this once per sample, and do it once in general.\n",
    "\n",
    "STAR will use the whitelist generated previously per sample to identify HDMIs and assign transcripts to them"
   ]
  },
  {
   "cell_type": "code",
   "execution_count": null,
   "metadata": {
    "vscode": {
     "languageId": "shellscript"
    }
   },
   "outputs": [],
   "source": [
    "cd /path/to/spatial/data"
   ]
  },
  {
   "cell_type": "code",
   "execution_count": null,
   "metadata": {
    "vscode": {
     "languageId": "shellscript"
    }
   },
   "outputs": [],
   "source": [
    "GENOME_DIR=indexes/STAR/2.7.10a/mm10"
   ]
  },
  {
   "cell_type": "code",
   "execution_count": null,
   "metadata": {
    "vscode": {
     "languageId": "shellscript"
    }
   },
   "outputs": [],
   "source": [
    "STAR --genomeLoad Remove --genomeDir ${GENOME_DIR}\n",
    "STAR --genomeLoad LoadAndExit --genomeDir ${GENOME_DIR}\n",
    "rm -r _STARtmp Log.out Log.progress.out Aligned.out.sam"
   ]
  },
  {
   "cell_type": "code",
   "execution_count": null,
   "metadata": {
    "vscode": {
     "languageId": "shellscript"
    }
   },
   "outputs": [],
   "source": [
    "for sample in `ls Demultiplexed/*_R1_001.fastq.gz | grep -v Undeter | cut -d'/' -f2 | sed 's/_S[0-9]_R1_001.fastq.gz//'`; do\n",
    "    BARCODE_WHITELIST_FILE=output/whitelist_${sample}*\n",
    "    mkdir -p ${sample}\n",
    "    STAR \\\n",
    "        --soloType CB_UMI_Simple \\\n",
    "        --soloCBwhitelist ${BARCODE_WHITELIST_FILE} \\\n",
    "        --soloCBstart 1 \\\n",
    "        --soloCBlen 31 \\\n",
    "        --soloUMIstart 32 \\\n",
    "        --soloUMIlen 9 \\\n",
    "        --soloBarcodeMate 0 \\\n",
    "        --soloBarcodeReadLength 0 \\\n",
    "        --soloFeatures Gene GeneFull \\\n",
    "        --soloCBmatchWLtype 1MM \\\n",
    "        --soloUMIdedup 1MM_All \\\n",
    "        --soloCellFilter None \\\n",
    "        --outSAMtype BAM SortedByCoordinate \\\n",
    "        --outSAMattributes NH HI AS nM CR CY UR UY CB UB sS \\\n",
    "        --runThreadN 36 \\\n",
    "        --genomeDir ${GENOME_DIR} \\\n",
    "        --genomeLoad LoadAndKeep \\\n",
    "        --limitBAMsortRAM 50000000000 \\\n",
    "        --readFilesIn Demultiplexed_32_80/${sample}_S1_R2_001.fastq.gz Demultiplexed/${sample}_S1_R1_UMI_added.fastq.gz \\\n",
    "        --readFilesCommand zcat \\\n",
    "        --outFileNamePrefix output/${sample}/${sample}_ \\\n",
    "        --outReadsUnmapped Fastx\n",
    "done\n",
    "\n",
    "# readFilesIn should be two lists of comma seperated values. The first should be Read 2 files and the second should be read 1 files\n",
    "# STARsolo can only do error corretion with 31 bases, so we ignore the last base."
   ]
  },
  {
   "cell_type": "code",
   "execution_count": null,
   "metadata": {},
   "outputs": [],
   "source": [
    "STAR --genomeLoad Remove --genomeDir ${GENOME_DIR}"
   ]
  }
 ],
 "metadata": {
  "kernelspec": {
   "display_name": "Bash 4.2.46",
   "language": "bash",
   "name": "bash4246"
  },
  "language_info": {
   "codemirror_mode": "shell",
   "file_extension": ".sh",
   "mimetype": "text/x-sh",
   "name": "bash"
  }
 },
 "nbformat": 4,
 "nbformat_minor": 4
}
